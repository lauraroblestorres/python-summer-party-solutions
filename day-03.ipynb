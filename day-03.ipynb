{
  "cells": [
    {
      "cell_type": "markdown",
      "metadata": {},
      "source": [
        "# Day 3: Disney Parks Guest Spending Behavior"
      ]
    },
    {
      "cell_type": "markdown",
      "metadata": {},
      "source": [
        "You are a data analyst working with the Disney Parks revenue team to understand nuanced guest spending patterns across different park experiences. The team wants to develop a comprehensive view of visitor purchasing behaviors. Your goal is to uncover meaningful insights that can drive personalized marketing strategies."
      ]
    },
    {
      "cell_type": "code",
      "metadata": {},
      "execution_count": null,
      "outputs": [],
      "source": "import pandas as pd\nimport numpy as np\n\nfct_guest_spending_data = [\n  {\n    \"guest_id\": 1,\n    \"visit_date\": \"2024-07-05\",\n    \"amount_spent\": 50,\n    \"park_experience_type\": \"Attraction\"\n  },\n  {\n    \"guest_id\": 2,\n    \"visit_date\": \"2024-07-06\",\n    \"amount_spent\": 30,\n    \"park_experience_type\": \"Dining\"\n  },\n  {\n    \"guest_id\": 3,\n    \"visit_date\": \"2024-07-10\",\n    \"amount_spent\": 20.5,\n    \"park_experience_type\": \"Retail\"\n  },\n  {\n    \"guest_id\": 4,\n    \"visit_date\": \"2024-07-12\",\n    \"amount_spent\": 40,\n    \"park_experience_type\": \"Entertainment\"\n  },\n  {\n    \"guest_id\": 1,\n    \"visit_date\": \"2024-07-15\",\n    \"amount_spent\": 35,\n    \"park_experience_type\": \"Dining\"\n  },\n  {\n    \"guest_id\": 5,\n    \"visit_date\": \"2024-07-20\",\n    \"amount_spent\": 60,\n    \"park_experience_type\": \"Attraction\"\n  },\n  {\n    \"guest_id\": 6,\n    \"visit_date\": \"2024-07-25\",\n    \"amount_spent\": 25,\n    \"park_experience_type\": \"Retail\"\n  },\n  {\n    \"guest_id\": 1,\n    \"visit_date\": \"2024-08-03\",\n    \"amount_spent\": 55,\n    \"park_experience_type\": \"Attraction\"\n  },\n  {\n    \"guest_id\": 1,\n    \"visit_date\": \"2024-08-15\",\n    \"amount_spent\": 45,\n    \"park_experience_type\": \"Dining\"\n  },\n  {\n    \"guest_id\": 2,\n    \"visit_date\": \"2024-08-05\",\n    \"amount_spent\": 22,\n    \"park_experience_type\": \"Retail\"\n  },\n  {\n    \"guest_id\": 2,\n    \"visit_date\": \"2024-08-20\",\n    \"amount_spent\": 38,\n    \"park_experience_type\": \"Entertainment\"\n  },\n  {\n    \"guest_id\": 7,\n    \"visit_date\": \"2024-08-10\",\n    \"amount_spent\": 15,\n    \"park_experience_type\": \"Character Meet\"\n  },\n  {\n    \"guest_id\": 3,\n    \"visit_date\": \"2024-08-25\",\n    \"amount_spent\": 28,\n    \"park_experience_type\": \"Retail\"\n  },\n  {\n    \"guest_id\": 3,\n    \"visit_date\": \"2024-08-27\",\n    \"amount_spent\": 32,\n    \"park_experience_type\": \"Dining\"\n  },\n  {\n    \"guest_id\": 1,\n    \"visit_date\": \"2024-09-02\",\n    \"amount_spent\": 65,\n    \"park_experience_type\": \"Attraction\"\n  },\n  {\n    \"guest_id\": 8,\n    \"visit_date\": \"2024-09-05\",\n    \"amount_spent\": 50,\n    \"park_experience_type\": \"Retail\"\n  },\n  {\n    \"guest_id\": 9,\n    \"visit_date\": \"2024-09-15\",\n    \"amount_spent\": 40,\n    \"park_experience_type\": \"Dining\"\n  },\n  {\n    \"guest_id\": 10,\n    \"visit_date\": \"2024-09-20\",\n    \"amount_spent\": 70,\n    \"park_experience_type\": \"Entertainment\"\n  },\n  {\n    \"guest_id\": 1,\n    \"visit_date\": \"2024-09-25\",\n    \"amount_spent\": 35,\n    \"park_experience_type\": \"Dining\"\n  },\n  {\n    \"guest_id\": 8,\n    \"visit_date\": \"2024-09-28\",\n    \"amount_spent\": 10,\n    \"park_experience_type\": \"Character Meet\"\n  }\n]\nfct_guest_spending = pd.DataFrame(fct_guest_spending_data)\n"
    },
    {
      "cell_type": "markdown",
      "metadata": {},
      "source": [
        "## Question 1\n\nWhat is the average spending per guest per visit for each park experience type during July 2024? Ensure that park experience types with no recorded transactions are shown with an average spending of 0.0. This analysis helps establish baseline spending differences essential for later segmentation."
      ]
    },
    {
      "cell_type": "code",
      "metadata": {},
      "execution_count": null,
      "outputs": [],
      "source": "# Convert to datetime and extract year-month\nfct_guest_spending[\"visit_date\"] = pd.to_datetime(fct_guest_spending[\"visit_date\"], errors=\"coerce\")\nfct_guest_spending[\"year_month\"] = fct_guest_spending[\"visit_date\"].dt.to_period(\"M\")\n\n# Filter for July 2024\njuly_data = fct_guest_spending[fct_guest_spending[\"year_month\"] == \"2024-07\"]\n\n# All experience types\nall_experiences = fct_guest_spending[\"park_experience_type\"].unique()\n\n# Average spending per visit\njuly_grouped = (\n    july_data.groupby(\"park_experience_type\")[\"amount_spent\"]\n    .mean()\n    .reset_index(name=\"avg_spending_per_visit\")\n)\n\n# Ensure all experience types are included, fill missing with 0.0\njuly_grouped = (\n    july_grouped.set_index(\"park_experience_type\")\n    .reindex(all_experiences, fill_value=0.0)\n    .reset_index()\n)\n\nprint(july_grouped)"
    },
    {
      "cell_type": "markdown",
      "metadata": {},
      "source": [
        "## Question 2\n\nFor guests who visited our parks more than once in August 2024, what is the difference in spending between their first and their last visit? This investigation, using sequential analysis, will reveal any shifts in guest spending behavior over multiple visits."
      ]
    },
    {
      "cell_type": "code",
      "metadata": {},
      "execution_count": null,
      "outputs": [],
      "source": "# Filter for August 2024\naug_data = fct_guest_spending[\n    (fct_guest_spending[\"visit_date\"].dt.year == 2024) &\n    (fct_guest_spending[\"visit_date\"].dt.month == 8)\n]\n\n# Ensure sorted\naug_data = aug_data.sort_values([\"guest_id\", \"visit_date\"])\n\n# Get first and last visit spending per guest\nfirst_last_spending = (\n    aug_data.groupby(\"guest_id\")\n    .agg(\n        first_spent=(\"amount_spent\", \"first\"),\n        last_spent=(\"amount_spent\", \"last\"),\n        visit_count=(\"visit_date\", \"count\")\n    )\n    .reset_index()\n)\n\n# Keep only guests with multiple visits\nfirst_last_multi = first_last_spending[first_last_spending[\"visit_count\"] > 1]\n\n# Add column for difference (last - first)\nfirst_last_multi[\"spending_diff\"] = (\n    first_last_multi[\"last_spent\"] - first_last_multi[\"first_spent\"]\n)\n\nprint(first_last_multi.head())"
    },
    {
      "cell_type": "markdown",
      "metadata": {},
      "source": [
        "## Question 3\n\nIn September 2024, how can guests be categorized into distinct spending segments such as Low, Medium, and High based on their total spending? Use the following thresholds for categorization: \n-Low: Includes values from $0 up to, but not including, $50.\n-Medium: Includes values from $50 up to, but not including, $100.\n-High: Includes values from $100 and above. \nExclude guests who did not make any purchases in the period."
      ]
    },
    {
      "cell_type": "code",
      "metadata": {},
      "execution_count": null,
      "outputs": [],
      "source": "# Filter for August 2024\nsept_data = fct_guest_spending[\n    (fct_guest_spending[\"visit_date\"].dt.year == 2024) &\n    (fct_guest_spending[\"visit_date\"].dt.month == 9)\n]\n\n# Keep only guests with >0 spending\nactive_guests = sept_data[sept_data[\"amount_spent\"] > 0]\n\n# Step 1: Aggregate total spending per guest\ntotal_spending = (\n    active_guests.groupby(\"guest_id\")[\"amount_spent\"]\n    .sum()\n    .reset_index(name=\"total_spent\")\n)\n\n# Step 2: Define bins and labels\nbins = [0, 50, 100, float(\"inf\")]  # upper bound is exclusive\nlabels = [\"Low\", \"Medium\", \"High\"]\n\n# Assign labels\ntotal_spending[\"spending_category\"] = pd.cut(\n    total_spending[\"total_spent\"],\n    bins=bins,\n    labels=labels,\n    right=False  # upper bound is not included\n)\n\nprint(total_spending.head())"
    },
    {
      "cell_type": "markdown",
      "metadata": {},
      "source": [
        "Made with ❤️ by [Interview Master](https://www.interviewmaster.ai)"
      ]
    }
  ],
  "metadata": {
    "kernelspec": {
      "name": "python3",
      "language": "python",
      "display_name": "Python 3"
    },
    "language_info": {
      "name": "python",
      "version": "3",
      "mimetype": "text/x-python",
      "file_extension": ".py"
    }
  },
  "nbformat": 4,
  "nbformat_minor": 5
}